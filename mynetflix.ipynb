{
 "cells": [
  {
   "cell_type": "code",
   "execution_count": 107,
   "metadata": {},
   "outputs": [],
   "source": [
    "import pandas as pd\n"
   ]
  },
  {
   "cell_type": "code",
   "execution_count": 108,
   "metadata": {},
   "outputs": [
    {
     "data": {
      "text/html": [
       "<div>\n",
       "<style scoped>\n",
       "    .dataframe tbody tr th:only-of-type {\n",
       "        vertical-align: middle;\n",
       "    }\n",
       "\n",
       "    .dataframe tbody tr th {\n",
       "        vertical-align: top;\n",
       "    }\n",
       "\n",
       "    .dataframe thead th {\n",
       "        text-align: right;\n",
       "    }\n",
       "</style>\n",
       "<table border=\"1\" class=\"dataframe\">\n",
       "  <thead>\n",
       "    <tr style=\"text-align: right;\">\n",
       "      <th></th>\n",
       "      <th>Profile Name</th>\n",
       "      <th>Title Name</th>\n",
       "      <th>Rating Type</th>\n",
       "      <th>Star Value</th>\n",
       "      <th>Thumbs Value</th>\n",
       "      <th>Device Model</th>\n",
       "      <th>Event Utc Ts</th>\n",
       "      <th>Region View Date</th>\n",
       "    </tr>\n",
       "  </thead>\n",
       "  <tbody>\n",
       "    <tr>\n",
       "      <th>0</th>\n",
       "      <td>Kids</td>\n",
       "      <td>The Karate Kid</td>\n",
       "      <td>thumb</td>\n",
       "      <td>NaN</td>\n",
       "      <td>2</td>\n",
       "      <td>PS4</td>\n",
       "      <td>2021-11-22 05:26:30</td>\n",
       "      <td>NaN</td>\n",
       "    </tr>\n",
       "    <tr>\n",
       "      <th>1</th>\n",
       "      <td>Kids</td>\n",
       "      <td>Hotel for Dogs</td>\n",
       "      <td>thumb</td>\n",
       "      <td>NaN</td>\n",
       "      <td>2</td>\n",
       "      <td>iPhone</td>\n",
       "      <td>2021-04-10 06:46:57</td>\n",
       "      <td>NaN</td>\n",
       "    </tr>\n",
       "    <tr>\n",
       "      <th>2</th>\n",
       "      <td>Kids</td>\n",
       "      <td>The Little Rascals</td>\n",
       "      <td>thumb</td>\n",
       "      <td>NaN</td>\n",
       "      <td>2</td>\n",
       "      <td>iPhone</td>\n",
       "      <td>2021-04-10 06:45:26</td>\n",
       "      <td>NaN</td>\n",
       "    </tr>\n",
       "    <tr>\n",
       "      <th>3</th>\n",
       "      <td>Kids</td>\n",
       "      <td>We Can Be Heroes</td>\n",
       "      <td>thumb</td>\n",
       "      <td>NaN</td>\n",
       "      <td>2</td>\n",
       "      <td>iPhone</td>\n",
       "      <td>2021-01-09 06:09:15</td>\n",
       "      <td>NaN</td>\n",
       "    </tr>\n",
       "    <tr>\n",
       "      <th>4</th>\n",
       "      <td>Kids</td>\n",
       "      <td>Willy Wonka &amp; the Chocolate Factory</td>\n",
       "      <td>thumb</td>\n",
       "      <td>NaN</td>\n",
       "      <td>2</td>\n",
       "      <td>iPhone</td>\n",
       "      <td>2020-01-30 05:16:44</td>\n",
       "      <td>NaN</td>\n",
       "    </tr>\n",
       "    <tr>\n",
       "      <th>...</th>\n",
       "      <td>...</td>\n",
       "      <td>...</td>\n",
       "      <td>...</td>\n",
       "      <td>...</td>\n",
       "      <td>...</td>\n",
       "      <td>...</td>\n",
       "      <td>...</td>\n",
       "      <td>...</td>\n",
       "    </tr>\n",
       "    <tr>\n",
       "      <th>280</th>\n",
       "      <td>Melodee</td>\n",
       "      <td>When They See Us</td>\n",
       "      <td>thumb</td>\n",
       "      <td>NaN</td>\n",
       "      <td>2</td>\n",
       "      <td>iPhone</td>\n",
       "      <td>2019-12-27 23:45:34</td>\n",
       "      <td>NaN</td>\n",
       "    </tr>\n",
       "    <tr>\n",
       "      <th>281</th>\n",
       "      <td>Melodee</td>\n",
       "      <td>Shooter</td>\n",
       "      <td>thumb</td>\n",
       "      <td>NaN</td>\n",
       "      <td>2</td>\n",
       "      <td>iPhone</td>\n",
       "      <td>2019-12-27 23:44:16</td>\n",
       "      <td>NaN</td>\n",
       "    </tr>\n",
       "    <tr>\n",
       "      <th>282</th>\n",
       "      <td>Melodee</td>\n",
       "      <td>Elite</td>\n",
       "      <td>thumb</td>\n",
       "      <td>NaN</td>\n",
       "      <td>2</td>\n",
       "      <td>iPhone</td>\n",
       "      <td>2019-12-27 23:43:47</td>\n",
       "      <td>NaN</td>\n",
       "    </tr>\n",
       "    <tr>\n",
       "      <th>283</th>\n",
       "      <td>Melodee</td>\n",
       "      <td>Being Mary Jane: The Series</td>\n",
       "      <td>thumb</td>\n",
       "      <td>NaN</td>\n",
       "      <td>2</td>\n",
       "      <td>iPhone</td>\n",
       "      <td>2019-12-27 23:41:43</td>\n",
       "      <td>NaN</td>\n",
       "    </tr>\n",
       "    <tr>\n",
       "      <th>284</th>\n",
       "      <td>Melodee</td>\n",
       "      <td>Love &amp; Basketball</td>\n",
       "      <td>thumb</td>\n",
       "      <td>NaN</td>\n",
       "      <td>2</td>\n",
       "      <td>iPhone</td>\n",
       "      <td>2019-12-27 23:39:52</td>\n",
       "      <td>NaN</td>\n",
       "    </tr>\n",
       "  </tbody>\n",
       "</table>\n",
       "<p>285 rows × 8 columns</p>\n",
       "</div>"
      ],
      "text/plain": [
       "    Profile Name                           Title Name Rating Type  Star Value  \\\n",
       "0           Kids                       The Karate Kid       thumb         NaN   \n",
       "1           Kids                       Hotel for Dogs       thumb         NaN   \n",
       "2           Kids                   The Little Rascals       thumb         NaN   \n",
       "3           Kids                     We Can Be Heroes       thumb         NaN   \n",
       "4           Kids  Willy Wonka & the Chocolate Factory       thumb         NaN   \n",
       "..           ...                                  ...         ...         ...   \n",
       "280      Melodee                     When They See Us       thumb         NaN   \n",
       "281      Melodee                              Shooter       thumb         NaN   \n",
       "282      Melodee                                Elite       thumb         NaN   \n",
       "283      Melodee          Being Mary Jane: The Series       thumb         NaN   \n",
       "284      Melodee                    Love & Basketball       thumb         NaN   \n",
       "\n",
       "     Thumbs Value Device Model         Event Utc Ts  Region View Date  \n",
       "0               2          PS4  2021-11-22 05:26:30               NaN  \n",
       "1               2       iPhone  2021-04-10 06:46:57               NaN  \n",
       "2               2       iPhone  2021-04-10 06:45:26               NaN  \n",
       "3               2       iPhone  2021-01-09 06:09:15               NaN  \n",
       "4               2       iPhone  2020-01-30 05:16:44               NaN  \n",
       "..            ...          ...                  ...               ...  \n",
       "280             2       iPhone  2019-12-27 23:45:34               NaN  \n",
       "281             2       iPhone  2019-12-27 23:44:16               NaN  \n",
       "282             2       iPhone  2019-12-27 23:43:47               NaN  \n",
       "283             2       iPhone  2019-12-27 23:41:43               NaN  \n",
       "284             2       iPhone  2019-12-27 23:39:52               NaN  \n",
       "\n",
       "[285 rows x 8 columns]"
      ]
     },
     "execution_count": 108,
     "metadata": {},
     "output_type": "execute_result"
    }
   ],
   "source": [
    "ratings = pd.read_csv(\"/Users/madisenleshoure/Downloads/netflix-report/CONTENT_INTERACTION/Ratings.csv\")\n",
    "ratings\n"
   ]
  },
  {
   "cell_type": "code",
   "execution_count": 109,
   "metadata": {},
   "outputs": [
    {
     "data": {
      "text/html": [
       "<div>\n",
       "<style scoped>\n",
       "    .dataframe tbody tr th:only-of-type {\n",
       "        vertical-align: middle;\n",
       "    }\n",
       "\n",
       "    .dataframe tbody tr th {\n",
       "        vertical-align: top;\n",
       "    }\n",
       "\n",
       "    .dataframe thead th {\n",
       "        text-align: right;\n",
       "    }\n",
       "</style>\n",
       "<table border=\"1\" class=\"dataframe\">\n",
       "  <thead>\n",
       "    <tr style=\"text-align: right;\">\n",
       "      <th></th>\n",
       "      <th>Profile Name</th>\n",
       "      <th>Start Time</th>\n",
       "      <th>Duration</th>\n",
       "      <th>Attributes</th>\n",
       "      <th>Title</th>\n",
       "      <th>Supplemental Video Type</th>\n",
       "      <th>Device Type</th>\n",
       "      <th>Bookmark</th>\n",
       "      <th>Latest Bookmark</th>\n",
       "      <th>Country</th>\n",
       "    </tr>\n",
       "  </thead>\n",
       "  <tbody>\n",
       "    <tr>\n",
       "      <th>0</th>\n",
       "      <td>Kids</td>\n",
       "      <td>2022-06-11 02:58:59</td>\n",
       "      <td>00:00:57</td>\n",
       "      <td>NaN</td>\n",
       "      <td>The Thundermans: Season 1: Adventures in Super...</td>\n",
       "      <td>NaN</td>\n",
       "      <td>Chrome PC (Cadmium)</td>\n",
       "      <td>00:00:57</td>\n",
       "      <td>00:00:57</td>\n",
       "      <td>US (United States)</td>\n",
       "    </tr>\n",
       "    <tr>\n",
       "      <th>1</th>\n",
       "      <td>Kids</td>\n",
       "      <td>2022-06-11 02:55:17</td>\n",
       "      <td>00:00:14</td>\n",
       "      <td>Autoplayed: user action: None;</td>\n",
       "      <td>Henry Danger: Season 1_hook_04_16x9</td>\n",
       "      <td>HOOK</td>\n",
       "      <td>Chrome PC (Cadmium)</td>\n",
       "      <td>00:00:14</td>\n",
       "      <td>00:00:14</td>\n",
       "      <td>US (United States)</td>\n",
       "    </tr>\n",
       "    <tr>\n",
       "      <th>2</th>\n",
       "      <td>Kids</td>\n",
       "      <td>2021-11-22 05:26:27</td>\n",
       "      <td>00:00:01</td>\n",
       "      <td>Autoplayed: user action: None;</td>\n",
       "      <td>The Karate Kid</td>\n",
       "      <td>NaN</td>\n",
       "      <td>Sony PS4</td>\n",
       "      <td>00:00:01</td>\n",
       "      <td>00:00:01</td>\n",
       "      <td>US (United States)</td>\n",
       "    </tr>\n",
       "    <tr>\n",
       "      <th>3</th>\n",
       "      <td>Kids</td>\n",
       "      <td>2021-07-10 08:12:44</td>\n",
       "      <td>00:00:04</td>\n",
       "      <td>Autoplayed: user action: None;</td>\n",
       "      <td>Avatar: The Last Airbender: Book 1: The King o...</td>\n",
       "      <td>NaN</td>\n",
       "      <td>Sony PS4</td>\n",
       "      <td>00:01:35</td>\n",
       "      <td>00:01:35</td>\n",
       "      <td>US (United States)</td>\n",
       "    </tr>\n",
       "    <tr>\n",
       "      <th>4</th>\n",
       "      <td>Kids</td>\n",
       "      <td>2021-07-10 07:50:55</td>\n",
       "      <td>00:21:48</td>\n",
       "      <td>NaN</td>\n",
       "      <td>Avatar: The Last Airbender: Book 1: The Warrio...</td>\n",
       "      <td>NaN</td>\n",
       "      <td>Sony PS4</td>\n",
       "      <td>00:23:21</td>\n",
       "      <td>00:23:21</td>\n",
       "      <td>US (United States)</td>\n",
       "    </tr>\n",
       "    <tr>\n",
       "      <th>...</th>\n",
       "      <td>...</td>\n",
       "      <td>...</td>\n",
       "      <td>...</td>\n",
       "      <td>...</td>\n",
       "      <td>...</td>\n",
       "      <td>...</td>\n",
       "      <td>...</td>\n",
       "      <td>...</td>\n",
       "      <td>...</td>\n",
       "      <td>...</td>\n",
       "    </tr>\n",
       "    <tr>\n",
       "      <th>10118</th>\n",
       "      <td>Nawal</td>\n",
       "      <td>2021-09-28 04:45:32</td>\n",
       "      <td>00:00:03</td>\n",
       "      <td>NaN</td>\n",
       "      <td>New Girl: Season 1: Wedding (Episode 3)</td>\n",
       "      <td>NaN</td>\n",
       "      <td>Chrome OS (Cadmium)</td>\n",
       "      <td>00:00:04</td>\n",
       "      <td>Not latest view</td>\n",
       "      <td>US (United States)</td>\n",
       "    </tr>\n",
       "    <tr>\n",
       "      <th>10119</th>\n",
       "      <td>Nawal</td>\n",
       "      <td>2021-09-28 04:45:17</td>\n",
       "      <td>00:00:03</td>\n",
       "      <td>NaN</td>\n",
       "      <td>New Girl: Season 1: Wedding (Episode 3)</td>\n",
       "      <td>NaN</td>\n",
       "      <td>Chrome OS (Cadmium)</td>\n",
       "      <td>00:00:03</td>\n",
       "      <td>Not latest view</td>\n",
       "      <td>US (United States)</td>\n",
       "    </tr>\n",
       "    <tr>\n",
       "      <th>10120</th>\n",
       "      <td>Nawal</td>\n",
       "      <td>2021-09-24 23:42:57</td>\n",
       "      <td>00:21:17</td>\n",
       "      <td>NaN</td>\n",
       "      <td>New Girl: Season 1: Wedding (Episode 3)</td>\n",
       "      <td>NaN</td>\n",
       "      <td>Chrome OS (Cadmium)</td>\n",
       "      <td>00:21:24</td>\n",
       "      <td>Not latest view</td>\n",
       "      <td>US (United States)</td>\n",
       "    </tr>\n",
       "    <tr>\n",
       "      <th>10121</th>\n",
       "      <td>Nawal</td>\n",
       "      <td>2021-09-24 23:21:28</td>\n",
       "      <td>00:21:19</td>\n",
       "      <td>NaN</td>\n",
       "      <td>New Girl: Season 1: Kryptonite (Episode 2)</td>\n",
       "      <td>NaN</td>\n",
       "      <td>Chrome OS (Cadmium)</td>\n",
       "      <td>00:21:26</td>\n",
       "      <td>00:21:26</td>\n",
       "      <td>US (United States)</td>\n",
       "    </tr>\n",
       "    <tr>\n",
       "      <th>10122</th>\n",
       "      <td>Nawal</td>\n",
       "      <td>2021-09-24 22:54:48</td>\n",
       "      <td>00:23:43</td>\n",
       "      <td>NaN</td>\n",
       "      <td>New Girl: Season 1: Pilot (Episode 1)</td>\n",
       "      <td>NaN</td>\n",
       "      <td>Chrome OS (Cadmium)</td>\n",
       "      <td>00:23:43</td>\n",
       "      <td>00:23:43</td>\n",
       "      <td>US (United States)</td>\n",
       "    </tr>\n",
       "  </tbody>\n",
       "</table>\n",
       "<p>10123 rows × 10 columns</p>\n",
       "</div>"
      ],
      "text/plain": [
       "      Profile Name           Start Time  Duration  \\\n",
       "0             Kids  2022-06-11 02:58:59  00:00:57   \n",
       "1             Kids  2022-06-11 02:55:17  00:00:14   \n",
       "2             Kids  2021-11-22 05:26:27  00:00:01   \n",
       "3             Kids  2021-07-10 08:12:44  00:00:04   \n",
       "4             Kids  2021-07-10 07:50:55  00:21:48   \n",
       "...            ...                  ...       ...   \n",
       "10118        Nawal  2021-09-28 04:45:32  00:00:03   \n",
       "10119        Nawal  2021-09-28 04:45:17  00:00:03   \n",
       "10120        Nawal  2021-09-24 23:42:57  00:21:17   \n",
       "10121        Nawal  2021-09-24 23:21:28  00:21:19   \n",
       "10122        Nawal  2021-09-24 22:54:48  00:23:43   \n",
       "\n",
       "                            Attributes  \\\n",
       "0                                  NaN   \n",
       "1      Autoplayed: user action: None;    \n",
       "2      Autoplayed: user action: None;    \n",
       "3      Autoplayed: user action: None;    \n",
       "4                                  NaN   \n",
       "...                                ...   \n",
       "10118                              NaN   \n",
       "10119                              NaN   \n",
       "10120                              NaN   \n",
       "10121                              NaN   \n",
       "10122                              NaN   \n",
       "\n",
       "                                                   Title  \\\n",
       "0      The Thundermans: Season 1: Adventures in Super...   \n",
       "1                    Henry Danger: Season 1_hook_04_16x9   \n",
       "2                                         The Karate Kid   \n",
       "3      Avatar: The Last Airbender: Book 1: The King o...   \n",
       "4      Avatar: The Last Airbender: Book 1: The Warrio...   \n",
       "...                                                  ...   \n",
       "10118            New Girl: Season 1: Wedding (Episode 3)   \n",
       "10119            New Girl: Season 1: Wedding (Episode 3)   \n",
       "10120            New Girl: Season 1: Wedding (Episode 3)   \n",
       "10121         New Girl: Season 1: Kryptonite (Episode 2)   \n",
       "10122              New Girl: Season 1: Pilot (Episode 1)   \n",
       "\n",
       "      Supplemental Video Type          Device Type  Bookmark  Latest Bookmark  \\\n",
       "0                         NaN  Chrome PC (Cadmium)  00:00:57         00:00:57   \n",
       "1                        HOOK  Chrome PC (Cadmium)  00:00:14         00:00:14   \n",
       "2                         NaN             Sony PS4  00:00:01         00:00:01   \n",
       "3                         NaN             Sony PS4  00:01:35         00:01:35   \n",
       "4                         NaN             Sony PS4  00:23:21         00:23:21   \n",
       "...                       ...                  ...       ...              ...   \n",
       "10118                     NaN  Chrome OS (Cadmium)  00:00:04  Not latest view   \n",
       "10119                     NaN  Chrome OS (Cadmium)  00:00:03  Not latest view   \n",
       "10120                     NaN  Chrome OS (Cadmium)  00:21:24  Not latest view   \n",
       "10121                     NaN  Chrome OS (Cadmium)  00:21:26         00:21:26   \n",
       "10122                     NaN  Chrome OS (Cadmium)  00:23:43         00:23:43   \n",
       "\n",
       "                  Country  \n",
       "0      US (United States)  \n",
       "1      US (United States)  \n",
       "2      US (United States)  \n",
       "3      US (United States)  \n",
       "4      US (United States)  \n",
       "...                   ...  \n",
       "10118  US (United States)  \n",
       "10119  US (United States)  \n",
       "10120  US (United States)  \n",
       "10121  US (United States)  \n",
       "10122  US (United States)  \n",
       "\n",
       "[10123 rows x 10 columns]"
      ]
     },
     "execution_count": 109,
     "metadata": {},
     "output_type": "execute_result"
    }
   ],
   "source": [
    "activity = pd.read_csv(\"/Users/madisenleshoure/Downloads/netflix-report/CONTENT_INTERACTION/ViewingActivity.csv\")\n",
    "activity"
   ]
  },
  {
   "cell_type": "code",
   "execution_count": 110,
   "metadata": {},
   "outputs": [
    {
     "data": {
      "text/plain": [
       "(10123, 10)"
      ]
     },
     "execution_count": 110,
     "metadata": {},
     "output_type": "execute_result"
    }
   ],
   "source": [
    "activity.shape"
   ]
  },
  {
   "cell_type": "code",
   "execution_count": 111,
   "metadata": {},
   "outputs": [],
   "source": [
    "df = activity.drop([\"Profile Name\", \"Attributes\", \"Supplemental Video Type\", 'Device Type', 'Bookmark', 'Latest Bookmark', 'Country'], axis=1)"
   ]
  },
  {
   "cell_type": "code",
   "execution_count": 112,
   "metadata": {},
   "outputs": [
    {
     "data": {
      "text/plain": [
       "Start Time    object\n",
       "Duration      object\n",
       "Title         object\n",
       "dtype: object"
      ]
     },
     "execution_count": 112,
     "metadata": {},
     "output_type": "execute_result"
    }
   ],
   "source": [
    "df.dtypes"
   ]
  },
  {
   "cell_type": "code",
   "execution_count": 113,
   "metadata": {},
   "outputs": [
    {
     "data": {
      "text/plain": [
       "Start Time    datetime64[ns, UTC]\n",
       "Duration                   object\n",
       "Title                      object\n",
       "dtype: object"
      ]
     },
     "execution_count": 113,
     "metadata": {},
     "output_type": "execute_result"
    }
   ],
   "source": [
    "df[\"Start Time\"] = pd.to_datetime(df[\"Start Time\"], utc= True)\n",
    "df.dtypes"
   ]
  },
  {
   "cell_type": "code",
   "execution_count": 114,
   "metadata": {},
   "outputs": [],
   "source": [
    "df = df.set_index(\"Start Time\")"
   ]
  },
  {
   "cell_type": "code",
   "execution_count": 115,
   "metadata": {},
   "outputs": [],
   "source": [
    "df.index = df.index.tz_convert(\"US/Eastern\")"
   ]
  },
  {
   "cell_type": "code",
   "execution_count": 116,
   "metadata": {},
   "outputs": [
    {
     "data": {
      "text/html": [
       "<div>\n",
       "<style scoped>\n",
       "    .dataframe tbody tr th:only-of-type {\n",
       "        vertical-align: middle;\n",
       "    }\n",
       "\n",
       "    .dataframe tbody tr th {\n",
       "        vertical-align: top;\n",
       "    }\n",
       "\n",
       "    .dataframe thead th {\n",
       "        text-align: right;\n",
       "    }\n",
       "</style>\n",
       "<table border=\"1\" class=\"dataframe\">\n",
       "  <thead>\n",
       "    <tr style=\"text-align: right;\">\n",
       "      <th></th>\n",
       "      <th>Start Time</th>\n",
       "      <th>Duration</th>\n",
       "      <th>Title</th>\n",
       "    </tr>\n",
       "  </thead>\n",
       "  <tbody>\n",
       "    <tr>\n",
       "      <th>0</th>\n",
       "      <td>2022-06-10 22:58:59-04:00</td>\n",
       "      <td>00:00:57</td>\n",
       "      <td>The Thundermans: Season 1: Adventures in Super...</td>\n",
       "    </tr>\n",
       "  </tbody>\n",
       "</table>\n",
       "</div>"
      ],
      "text/plain": [
       "                 Start Time  Duration  \\\n",
       "0 2022-06-10 22:58:59-04:00  00:00:57   \n",
       "\n",
       "                                               Title  \n",
       "0  The Thundermans: Season 1: Adventures in Super...  "
      ]
     },
     "execution_count": 116,
     "metadata": {},
     "output_type": "execute_result"
    }
   ],
   "source": [
    "df = df.reset_index()\n",
    "df.head(1)"
   ]
  },
  {
   "cell_type": "code",
   "execution_count": 117,
   "metadata": {},
   "outputs": [],
   "source": [
    "df[\"Duration\"] = pd.to_timedelta(df[\"Duration\"])"
   ]
  },
  {
   "cell_type": "code",
   "execution_count": 118,
   "metadata": {},
   "outputs": [],
   "source": [
    "girlfriends = df[df[\"Title\"].str.contains(\"Girlfriends\", regex= False)]"
   ]
  },
  {
   "cell_type": "code",
   "execution_count": 119,
   "metadata": {},
   "outputs": [
    {
     "data": {
      "text/plain": [
       "(843, 3)"
      ]
     },
     "execution_count": 119,
     "metadata": {},
     "output_type": "execute_result"
    }
   ],
   "source": [
    "girlfriends.shape"
   ]
  },
  {
   "cell_type": "code",
   "execution_count": 120,
   "metadata": {},
   "outputs": [
    {
     "data": {
      "text/plain": [
       "(753, 3)"
      ]
     },
     "execution_count": 120,
     "metadata": {},
     "output_type": "execute_result"
    }
   ],
   "source": [
    "girlfriends = girlfriends[(girlfriends[\"Duration\"] > \"0:01:00\")]\n",
    "girlfriends.shape"
   ]
  },
  {
   "cell_type": "code",
   "execution_count": 121,
   "metadata": {},
   "outputs": [
    {
     "data": {
      "text/plain": [
       "Timedelta('8 days 05:54:49')"
      ]
     },
     "execution_count": 121,
     "metadata": {},
     "output_type": "execute_result"
    }
   ],
   "source": [
    "girlfriends[\"Duration\"].sum()"
   ]
  },
  {
   "cell_type": "code",
   "execution_count": 122,
   "metadata": {},
   "outputs": [
    {
     "data": {
      "text/html": [
       "<div>\n",
       "<style scoped>\n",
       "    .dataframe tbody tr th:only-of-type {\n",
       "        vertical-align: middle;\n",
       "    }\n",
       "\n",
       "    .dataframe tbody tr th {\n",
       "        vertical-align: top;\n",
       "    }\n",
       "\n",
       "    .dataframe thead th {\n",
       "        text-align: right;\n",
       "    }\n",
       "</style>\n",
       "<table border=\"1\" class=\"dataframe\">\n",
       "  <thead>\n",
       "    <tr style=\"text-align: right;\">\n",
       "      <th></th>\n",
       "      <th>Start Time</th>\n",
       "      <th>Duration</th>\n",
       "      <th>Title</th>\n",
       "      <th>weekday</th>\n",
       "      <th>hour</th>\n",
       "    </tr>\n",
       "  </thead>\n",
       "  <tbody>\n",
       "    <tr>\n",
       "      <th>32</th>\n",
       "      <td>2023-05-16 01:49:37-04:00</td>\n",
       "      <td>0 days 00:14:04</td>\n",
       "      <td>Girlfriends: Season 2: Buh-Bye (Episode 5)</td>\n",
       "      <td>1</td>\n",
       "      <td>1</td>\n",
       "    </tr>\n",
       "  </tbody>\n",
       "</table>\n",
       "</div>"
      ],
      "text/plain": [
       "                  Start Time        Duration  \\\n",
       "32 2023-05-16 01:49:37-04:00 0 days 00:14:04   \n",
       "\n",
       "                                         Title  weekday  hour  \n",
       "32  Girlfriends: Season 2: Buh-Bye (Episode 5)        1     1  "
      ]
     },
     "execution_count": 122,
     "metadata": {},
     "output_type": "execute_result"
    }
   ],
   "source": [
    "girlfriends[\"weekday\"] = girlfriends[\"Start Time\"].dt.weekday\n",
    "girlfriends[\"hour\"] = girlfriends[\"Start Time\"].dt.hour\n",
    "girlfriends.head(1)"
   ]
  },
  {
   "cell_type": "code",
   "execution_count": 123,
   "metadata": {},
   "outputs": [],
   "source": [
    "import matplotlib as plt"
   ]
  },
  {
   "cell_type": "code",
   "execution_count": 124,
   "metadata": {},
   "outputs": [],
   "source": [
    "girlfriends[\"weekday\"] = pd.Categorical(girlfriends[\"weekday\"], categories=[0,1,2,3,4,5,6], ordered= True)"
   ]
  },
  {
   "cell_type": "code",
   "execution_count": 125,
   "metadata": {},
   "outputs": [],
   "source": [
    "girlfriends_by_day = girlfriends[\"weekday\"].value_counts()"
   ]
  },
  {
   "cell_type": "code",
   "execution_count": 126,
   "metadata": {},
   "outputs": [],
   "source": [
    "girlfriends_by_day = girlfriends_by_day.sort_index()"
   ]
  },
  {
   "cell_type": "code",
   "execution_count": 127,
   "metadata": {},
   "outputs": [],
   "source": [
    "plt.rcParams.update({\"font.size\": 22})"
   ]
  },
  {
   "cell_type": "code",
   "execution_count": 128,
   "metadata": {},
   "outputs": [
    {
     "data": {
      "text/plain": [
       "<Axes: title={'center': 'Girlfriends Episodes Watched by Day'}>"
      ]
     },
     "execution_count": 128,
     "metadata": {},
     "output_type": "execute_result"
    },
    {
     "data": {
      "image/png": "[encoded data removed]",
      "text/plain": [
       "<Figure size 2000x100 with 1 Axes>"
      ]
     },
     "metadata": {},
     "output_type": "display_data"
    }
   ],
   "source": [
    "girlfriends_by_day.plot(kind = \"bar\", figsize=(20,1), title= \"Girlfriends Episodes Watched by Day\")"
   ]
  },
  {
   "cell_type": "code",
   "execution_count": 129,
   "metadata": {},
   "outputs": [],
   "source": [
    "girlfriends[\"hous\"] = pd.Categorical(girlfriends[\"hour\"], categories= [0,1,2,3,4,5,6,7,8,9,10,11,12,13,14,15,16,17,18,19,20,21,22,23], ordered=True)"
   ]
  },
  {
   "cell_type": "code",
   "execution_count": 130,
   "metadata": {},
   "outputs": [
    {
     "data": {
      "text/plain": [
       "<Axes: title={'center': 'Girlfriends Episodes Watched by Hour'}>"
      ]
     },
     "execution_count": 130,
     "metadata": {},
     "output_type": "execute_result"
    },
    {
     "data": {
      "image/png": "[encoded data removed]",
      "text/plain": [
       "<Figure size 2000x1000 with 1 Axes>"
      ]
     },
     "metadata": {},
     "output_type": "display_data"
    }
   ],
   "source": [
    "girlfriends_by_hour = girlfriends[\"hour\"].value_counts()\n",
    "girlfriends_by_hour = girlfriends_by_hour.sort_index()\n",
    "girlfriends_by_hour.plot(kind=\"bar\", figsize=(20,10), title= \"Girlfriends Episodes Watched by Hour\")"
   ]
  },
  {
   "cell_type": "code",
   "execution_count": 131,
   "metadata": {},
   "outputs": [],
   "source": [
    "Moesha = df[df[\"Title\"].str.contains(\"Moesha\", regex= False)]"
   ]
  },
  {
   "cell_type": "code",
   "execution_count": 132,
   "metadata": {},
   "outputs": [
    {
     "data": {
      "text/plain": [
       "(542, 3)"
      ]
     },
     "execution_count": 132,
     "metadata": {},
     "output_type": "execute_result"
    }
   ],
   "source": [
    "Moesha.shape"
   ]
  },
  {
   "cell_type": "code",
   "execution_count": 133,
   "metadata": {},
   "outputs": [],
   "source": [
    "Moesha = Moesha[(Moesha[\"Duration\"] > \"0:01:00\")]"
   ]
  },
  {
   "cell_type": "code",
   "execution_count": 134,
   "metadata": {},
   "outputs": [
    {
     "data": {
      "text/plain": [
       "Timedelta('5 days 13:47:31')"
      ]
     },
     "execution_count": 134,
     "metadata": {},
     "output_type": "execute_result"
    }
   ],
   "source": [
    "Moesha[\"Duration\"].sum()"
   ]
  },
  {
   "cell_type": "code",
   "execution_count": 137,
   "metadata": {},
   "outputs": [
    {
     "data": {
      "text/html": [
       "<div>\n",
       "<style scoped>\n",
       "    .dataframe tbody tr th:only-of-type {\n",
       "        vertical-align: middle;\n",
       "    }\n",
       "\n",
       "    .dataframe tbody tr th {\n",
       "        vertical-align: top;\n",
       "    }\n",
       "\n",
       "    .dataframe thead th {\n",
       "        text-align: right;\n",
       "    }\n",
       "</style>\n",
       "<table border=\"1\" class=\"dataframe\">\n",
       "  <thead>\n",
       "    <tr style=\"text-align: right;\">\n",
       "      <th></th>\n",
       "      <th>Start Time</th>\n",
       "      <th>Duration</th>\n",
       "      <th>Title</th>\n",
       "      <th>weekday</th>\n",
       "      <th>hour</th>\n",
       "    </tr>\n",
       "  </thead>\n",
       "  <tbody>\n",
       "    <tr>\n",
       "      <th>57</th>\n",
       "      <td>2023-05-14 01:42:39-04:00</td>\n",
       "      <td>0 days 00:20:50</td>\n",
       "      <td>Moesha: Season 3: A House Is Not a Home (Episo...</td>\n",
       "      <td>6</td>\n",
       "      <td>1</td>\n",
       "    </tr>\n",
       "  </tbody>\n",
       "</table>\n",
       "</div>"
      ],
      "text/plain": [
       "                  Start Time        Duration  \\\n",
       "57 2023-05-14 01:42:39-04:00 0 days 00:20:50   \n",
       "\n",
       "                                                Title  weekday  hour  \n",
       "57  Moesha: Season 3: A House Is Not a Home (Episo...        6     1  "
      ]
     },
     "execution_count": 137,
     "metadata": {},
     "output_type": "execute_result"
    }
   ],
   "source": [
    "Moesha[\"weekday\"] = Moesha[\"Start Time\"].dt.weekday\n",
    "Moesha[\"hour\"] = Moesha[\"Start Time\"].dt.hour\n",
    "Moesha.head(1)"
   ]
  },
  {
   "cell_type": "code",
   "execution_count": 138,
   "metadata": {},
   "outputs": [],
   "source": [
    "Moesha[\"weekday\"] = pd.Categorical(Moesha[\"weekday\"], categories=[0,1,2,3,4,5,6], ordered= True)"
   ]
  },
  {
   "cell_type": "code",
   "execution_count": 139,
   "metadata": {},
   "outputs": [],
   "source": [
    "Moesha_by_day = Moesha[\"weekday\"].value_counts()"
   ]
  },
  {
   "cell_type": "code",
   "execution_count": 140,
   "metadata": {},
   "outputs": [],
   "source": [
    "girlfriends_by_day = girlfriends_by_day.sort_index()\n",
    "plt.rcParams.update({\"font.size\": 22})"
   ]
  },
  {
   "cell_type": "code",
   "execution_count": 141,
   "metadata": {},
   "outputs": [
    {
     "data": {
      "text/plain": [
       "<Axes: title={'center': 'Girlfriends Episodes Watched by Day'}>"
      ]
     },
     "execution_count": 141,
     "metadata": {},
     "output_type": "execute_result"
    },
    {
     "data": {
      "image/png": "[encoded data removed]",
      "text/plain": [
       "<Figure size 2000x100 with 1 Axes>"
      ]
     },
     "metadata": {},
     "output_type": "display_data"
    }
   ],
   "source": [
    "girlfriends_by_day.plot(kind = \"bar\", figsize=(20,1), title= \"Girlfriends Episodes Watched by Day\")"
   ]
  },
  {
   "cell_type": "code",
   "execution_count": 142,
   "metadata": {},
   "outputs": [],
   "source": [
    "Moesha[\"hous\"] = pd.Categorical(Moesha[\"hour\"], categories= [0,1,2,3,4,5,6,7,8,9,10,11,12,13,14,15,16,17,18,19,20,21,22,23], ordered=True)"
   ]
  },
  {
   "cell_type": "code",
   "execution_count": 143,
   "metadata": {},
   "outputs": [
    {
     "data": {
      "text/plain": [
       "<Axes: title={'center': 'Girlfriends Episodes Watched by Hour'}>"
      ]
     },
     "execution_count": 143,
     "metadata": {},
     "output_type": "execute_result"
    },
    {
     "data": {
      "image/png": "[encoded data removed]",
      "text/plain": [
       "<Figure size 2000x1000 with 1 Axes>"
      ]
     },
     "metadata": {},
     "output_type": "display_data"
    }
   ],
   "source": [
    "Moesha_by_hour = Moesha[\"hour\"].value_counts()\n",
    "Moesha_by_hour = Moesha_by_hour.sort_index()\n",
    "Moesha_by_hour.plot(kind=\"bar\", figsize=(20,10), title= \"Girlfriends Episodes Watched by Hour\")"
   ]
  },
  {
   "cell_type": "code",
   "execution_count": null,
   "metadata": {},
   "outputs": [
    {
     "data": {
      "text/html": [
       "<div>\n",
       "<style scoped>\n",
       "    .dataframe tbody tr th:only-of-type {\n",
       "        vertical-align: middle;\n",
       "    }\n",
       "\n",
       "    .dataframe tbody tr th {\n",
       "        vertical-align: top;\n",
       "    }\n",
       "\n",
       "    .dataframe thead th {\n",
       "        text-align: right;\n",
       "    }\n",
       "</style>\n",
       "<table border=\"1\" class=\"dataframe\">\n",
       "  <thead>\n",
       "    <tr style=\"text-align: right;\">\n",
       "      <th></th>\n",
       "      <th>Transaction Date</th>\n",
       "      <th>Service Period Start Date</th>\n",
       "      <th>Service Period End Date</th>\n",
       "      <th>Description</th>\n",
       "      <th>Payment Type</th>\n",
       "      <th>Mop Last 4</th>\n",
       "      <th>Mop Creation Date</th>\n",
       "      <th>Mop Pmt Processor Desc</th>\n",
       "      <th>Item Price Amt</th>\n",
       "      <th>Currency</th>\n",
       "      <th>Tax Amt</th>\n",
       "      <th>Gross Sale Amt</th>\n",
       "      <th>Pmt Txn Type</th>\n",
       "      <th>Pmt Status</th>\n",
       "      <th>Final Invoice Result</th>\n",
       "      <th>Country</th>\n",
       "      <th>Next Billing Date</th>\n",
       "    </tr>\n",
       "  </thead>\n",
       "  <tbody>\n",
       "    <tr>\n",
       "      <th>0</th>\n",
       "      <td>2023-05-06</td>\n",
       "      <td>2023-05-06</td>\n",
       "      <td>2023-06-05</td>\n",
       "      <td>SUBSCRIPTION</td>\n",
       "      <td>VISA</td>\n",
       "      <td>5704</td>\n",
       "      <td>NaN</td>\n",
       "      <td>VANTIV</td>\n",
       "      <td>15.49</td>\n",
       "      <td>USD</td>\n",
       "      <td>0.0</td>\n",
       "      <td>15.49</td>\n",
       "      <td>SALE</td>\n",
       "      <td>NEW</td>\n",
       "      <td>SETTLED</td>\n",
       "      <td>US</td>\n",
       "      <td>2023-06-06</td>\n",
       "    </tr>\n",
       "    <tr>\n",
       "      <th>1</th>\n",
       "      <td>2023-05-06</td>\n",
       "      <td>NaN</td>\n",
       "      <td>NaN</td>\n",
       "      <td>payment_transaction</td>\n",
       "      <td>CC</td>\n",
       "      <td>5704</td>\n",
       "      <td>NaN</td>\n",
       "      <td>NaN</td>\n",
       "      <td>NaN</td>\n",
       "      <td>USD</td>\n",
       "      <td>NaN</td>\n",
       "      <td>15.49</td>\n",
       "      <td>SALE</td>\n",
       "      <td>APPROVED</td>\n",
       "      <td>NaN</td>\n",
       "      <td>US</td>\n",
       "      <td>NaN</td>\n",
       "    </tr>\n",
       "    <tr>\n",
       "      <th>2</th>\n",
       "      <td>2023-05-06</td>\n",
       "      <td>2023-05-06</td>\n",
       "      <td>2023-06-05</td>\n",
       "      <td>SUBSCRIPTION</td>\n",
       "      <td>VISA</td>\n",
       "      <td>5704</td>\n",
       "      <td>NaN</td>\n",
       "      <td>VANTIV</td>\n",
       "      <td>15.49</td>\n",
       "      <td>USD</td>\n",
       "      <td>0.0</td>\n",
       "      <td>15.49</td>\n",
       "      <td>SALE</td>\n",
       "      <td>APPROVED</td>\n",
       "      <td>SETTLED</td>\n",
       "      <td>US</td>\n",
       "      <td>2023-06-06</td>\n",
       "    </tr>\n",
       "    <tr>\n",
       "      <th>3</th>\n",
       "      <td>2023-05-06</td>\n",
       "      <td>NaN</td>\n",
       "      <td>NaN</td>\n",
       "      <td>payment_transaction</td>\n",
       "      <td>CC</td>\n",
       "      <td>5704</td>\n",
       "      <td>NaN</td>\n",
       "      <td>NaN</td>\n",
       "      <td>NaN</td>\n",
       "      <td>USD</td>\n",
       "      <td>NaN</td>\n",
       "      <td>15.49</td>\n",
       "      <td>SALE</td>\n",
       "      <td>NEW</td>\n",
       "      <td>NaN</td>\n",
       "      <td>US</td>\n",
       "      <td>NaN</td>\n",
       "    </tr>\n",
       "    <tr>\n",
       "      <th>4</th>\n",
       "      <td>2023-04-06</td>\n",
       "      <td>2023-04-06</td>\n",
       "      <td>2023-05-05</td>\n",
       "      <td>SUBSCRIPTION</td>\n",
       "      <td>VISA</td>\n",
       "      <td>5704</td>\n",
       "      <td>NaN</td>\n",
       "      <td>VPP</td>\n",
       "      <td>15.49</td>\n",
       "      <td>USD</td>\n",
       "      <td>0.0</td>\n",
       "      <td>15.49</td>\n",
       "      <td>SALE</td>\n",
       "      <td>NEW</td>\n",
       "      <td>SETTLED</td>\n",
       "      <td>US</td>\n",
       "      <td>2023-05-06</td>\n",
       "    </tr>\n",
       "    <tr>\n",
       "      <th>...</th>\n",
       "      <td>...</td>\n",
       "      <td>...</td>\n",
       "      <td>...</td>\n",
       "      <td>...</td>\n",
       "      <td>...</td>\n",
       "      <td>...</td>\n",
       "      <td>...</td>\n",
       "      <td>...</td>\n",
       "      <td>...</td>\n",
       "      <td>...</td>\n",
       "      <td>...</td>\n",
       "      <td>...</td>\n",
       "      <td>...</td>\n",
       "      <td>...</td>\n",
       "      <td>...</td>\n",
       "      <td>...</td>\n",
       "      <td>...</td>\n",
       "    </tr>\n",
       "    <tr>\n",
       "      <th>227</th>\n",
       "      <td>2020-03-26</td>\n",
       "      <td>2020-03-26</td>\n",
       "      <td>2020-04-25</td>\n",
       "      <td>SUBSCRIPTION</td>\n",
       "      <td>VISA</td>\n",
       "      <td>4609</td>\n",
       "      <td>NaN</td>\n",
       "      <td>PAYMENTECH</td>\n",
       "      <td>12.99</td>\n",
       "      <td>USD</td>\n",
       "      <td>0.0</td>\n",
       "      <td>12.99</td>\n",
       "      <td>NaN</td>\n",
       "      <td>NaN</td>\n",
       "      <td>SETTLED</td>\n",
       "      <td>US</td>\n",
       "      <td>2020-04-26</td>\n",
       "    </tr>\n",
       "    <tr>\n",
       "      <th>228</th>\n",
       "      <td>2020-02-26</td>\n",
       "      <td>2020-02-26</td>\n",
       "      <td>2020-03-25</td>\n",
       "      <td>SUBSCRIPTION</td>\n",
       "      <td>VISA</td>\n",
       "      <td>4609</td>\n",
       "      <td>NaN</td>\n",
       "      <td>PAYMENTECH</td>\n",
       "      <td>12.99</td>\n",
       "      <td>USD</td>\n",
       "      <td>0.0</td>\n",
       "      <td>12.99</td>\n",
       "      <td>NaN</td>\n",
       "      <td>NaN</td>\n",
       "      <td>SETTLED</td>\n",
       "      <td>US</td>\n",
       "      <td>2020-03-26</td>\n",
       "    </tr>\n",
       "    <tr>\n",
       "      <th>229</th>\n",
       "      <td>2020-01-26</td>\n",
       "      <td>2020-01-26</td>\n",
       "      <td>2020-02-25</td>\n",
       "      <td>SUBSCRIPTION</td>\n",
       "      <td>VISA</td>\n",
       "      <td>4609</td>\n",
       "      <td>NaN</td>\n",
       "      <td>PAYMENTECH</td>\n",
       "      <td>8.99</td>\n",
       "      <td>USD</td>\n",
       "      <td>0.0</td>\n",
       "      <td>8.99</td>\n",
       "      <td>NaN</td>\n",
       "      <td>NaN</td>\n",
       "      <td>SETTLED</td>\n",
       "      <td>US</td>\n",
       "      <td>2020-02-26</td>\n",
       "    </tr>\n",
       "    <tr>\n",
       "      <th>230</th>\n",
       "      <td>2019-12-27</td>\n",
       "      <td>NaN</td>\n",
       "      <td>NaN</td>\n",
       "      <td>payment_transaction</td>\n",
       "      <td>CC</td>\n",
       "      <td>4609</td>\n",
       "      <td>NaN</td>\n",
       "      <td>NaN</td>\n",
       "      <td>NaN</td>\n",
       "      <td>USD</td>\n",
       "      <td>NaN</td>\n",
       "      <td>0.00</td>\n",
       "      <td>VERIFY</td>\n",
       "      <td>APPROVED</td>\n",
       "      <td>NaN</td>\n",
       "      <td>US</td>\n",
       "      <td>NaN</td>\n",
       "    </tr>\n",
       "    <tr>\n",
       "      <th>231</th>\n",
       "      <td>2019-12-27</td>\n",
       "      <td>2019-12-26</td>\n",
       "      <td>2020-01-25</td>\n",
       "      <td>SUBSCRIPTION</td>\n",
       "      <td>FREE_TRIAL</td>\n",
       "      <td>4609</td>\n",
       "      <td>NaN</td>\n",
       "      <td>NaN</td>\n",
       "      <td>8.99</td>\n",
       "      <td>USD</td>\n",
       "      <td>0.0</td>\n",
       "      <td>0.00</td>\n",
       "      <td>NaN</td>\n",
       "      <td>NaN</td>\n",
       "      <td>SETTLED</td>\n",
       "      <td>US</td>\n",
       "      <td>2020-01-26</td>\n",
       "    </tr>\n",
       "  </tbody>\n",
       "</table>\n",
       "<p>232 rows × 17 columns</p>\n",
       "</div>"
      ],
      "text/plain": [
       "    Transaction Date Service Period Start Date Service Period End Date  \\\n",
       "0         2023-05-06                2023-05-06              2023-06-05   \n",
       "1         2023-05-06                       NaN                     NaN   \n",
       "2         2023-05-06                2023-05-06              2023-06-05   \n",
       "3         2023-05-06                       NaN                     NaN   \n",
       "4         2023-04-06                2023-04-06              2023-05-05   \n",
       "..               ...                       ...                     ...   \n",
       "227       2020-03-26                2020-03-26              2020-04-25   \n",
       "228       2020-02-26                2020-02-26              2020-03-25   \n",
       "229       2020-01-26                2020-01-26              2020-02-25   \n",
       "230       2019-12-27                       NaN                     NaN   \n",
       "231       2019-12-27                2019-12-26              2020-01-25   \n",
       "\n",
       "             Description Payment Type  Mop Last 4  Mop Creation Date  \\\n",
       "0           SUBSCRIPTION         VISA        5704                NaN   \n",
       "1    payment_transaction           CC        5704                NaN   \n",
       "2           SUBSCRIPTION         VISA        5704                NaN   \n",
       "3    payment_transaction           CC        5704                NaN   \n",
       "4           SUBSCRIPTION         VISA        5704                NaN   \n",
       "..                   ...          ...         ...                ...   \n",
       "227         SUBSCRIPTION         VISA        4609                NaN   \n",
       "228         SUBSCRIPTION         VISA        4609                NaN   \n",
       "229         SUBSCRIPTION         VISA        4609                NaN   \n",
       "230  payment_transaction           CC        4609                NaN   \n",
       "231         SUBSCRIPTION   FREE_TRIAL        4609                NaN   \n",
       "\n",
       "    Mop Pmt Processor Desc  Item Price Amt Currency  Tax Amt  Gross Sale Amt  \\\n",
       "0                   VANTIV           15.49      USD      0.0           15.49   \n",
       "1                      NaN             NaN      USD      NaN           15.49   \n",
       "2                   VANTIV           15.49      USD      0.0           15.49   \n",
       "3                      NaN             NaN      USD      NaN           15.49   \n",
       "4                      VPP           15.49      USD      0.0           15.49   \n",
       "..                     ...             ...      ...      ...             ...   \n",
       "227             PAYMENTECH           12.99      USD      0.0           12.99   \n",
       "228             PAYMENTECH           12.99      USD      0.0           12.99   \n",
       "229             PAYMENTECH            8.99      USD      0.0            8.99   \n",
       "230                    NaN             NaN      USD      NaN            0.00   \n",
       "231                    NaN            8.99      USD      0.0            0.00   \n",
       "\n",
       "    Pmt Txn Type Pmt Status Final Invoice Result Country Next Billing Date  \n",
       "0           SALE        NEW              SETTLED      US        2023-06-06  \n",
       "1           SALE   APPROVED                  NaN      US               NaN  \n",
       "2           SALE   APPROVED              SETTLED      US        2023-06-06  \n",
       "3           SALE        NEW                  NaN      US               NaN  \n",
       "4           SALE        NEW              SETTLED      US        2023-05-06  \n",
       "..           ...        ...                  ...     ...               ...  \n",
       "227          NaN        NaN              SETTLED      US        2020-04-26  \n",
       "228          NaN        NaN              SETTLED      US        2020-03-26  \n",
       "229          NaN        NaN              SETTLED      US        2020-02-26  \n",
       "230       VERIFY   APPROVED                  NaN      US               NaN  \n",
       "231          NaN        NaN              SETTLED      US        2020-01-26  \n",
       "\n",
       "[232 rows x 17 columns]"
      ]
     },
     "execution_count": 68,
     "metadata": {},
     "output_type": "execute_result"
    }
   ],
   "source": [
    "billing = pd.read_csv(\"/Users/madisenleshoure/Downloads/netflix-report/PAYMENT_AND_BILLING/BillingHistory.csv\")\n",
    "billing"
   ]
  },
  {
   "cell_type": "code",
   "execution_count": null,
   "metadata": {},
   "outputs": [],
   "source": []
  }
 ],
 "metadata": {
  "kernelspec": {
   "display_name": "Python 3",
   "language": "python",
   "name": "python3"
  },
  "language_info": {
   "codemirror_mode": {
    "name": "ipython",
    "version": 3
   },
   "file_extension": ".py",
   "mimetype": "text/x-python",
   "name": "python",
   "nbconvert_exporter": "python",
   "pygments_lexer": "ipython3",
   "version": "3.11.1"
  },
  "orig_nbformat": 4
 },
 "nbformat": 4,
 "nbformat_minor": 2
}
